{
 "cells": [
  {
   "cell_type": "markdown",
   "metadata": {},
   "source": [
    "# Lab | Sequence Modeling with LSTM"
   ]
  },
  {
   "cell_type": "code",
   "execution_count": 1,
   "metadata": {
    "id": "hmA6EzkQJ5jt",
    "tags": []
   },
   "outputs": [],
   "source": [
    "import json\n",
    "import tensorflow as tf\n",
    "import csv\n",
    "import random\n",
    "import numpy as np\n",
    "\n",
    "from tensorflow.keras.preprocessing.text import Tokenizer\n",
    "from tensorflow.keras.preprocessing.sequence import pad_sequences\n",
    "from tensorflow.keras.utils import to_categorical\n",
    "from tensorflow.keras import regularizers\n",
    "\n",
    "\n",
    "embedding_dim = 100\n",
    "max_length = 16\n",
    "trunc_type='post'\n",
    "padding_type='post'\n",
    "oov_tok = \"<OOV>\"\n",
    "training_size=16000 #Your dataset size here. Experiment using smaller values (i.e. 16000), but don't forget to train on at least 160000 to see the best effects\n",
    "test_portion=.1\n",
    "\n",
    "corpus = []\n"
   ]
  },
  {
   "cell_type": "code",
   "execution_count": 2,
   "metadata": {
    "colab": {
     "base_uri": "https://localhost:8080/",
     "height": 204
    },
    "id": "bM0l_dORKqE0",
    "outputId": "491ba86b-f780-4355-a4be-765565a29c8c",
    "tags": []
   },
   "outputs": [],
   "source": [
    "num_sentences = 0\n",
    "\n",
    "with open('training.1600000.processed.noemoticon.csv', 'r', encoding='latin-1') as csvfile:\n",
    "    reader = csv.reader(csvfile, delimiter=',')\n",
    "    for row in reader:\n",
    "      # Your Code here. Create list items where the first item is the text, found in row[5], and the second is the label. Note that the label is a '0' or a '4' in the text. When it's the former, make\n",
    "      # your label to be 0, otherwise 1. Keep a count of the number of sentences in num_sentences\n",
    "        list_item=[]\n",
    "        # YOUR CODE HERE\n",
    "        list_item.append(row[5])  # Text is in row[5]\n",
    "        \n",
    "        # Label is '0' if the sentiment is negative, otherwise '1'\n",
    "        label = 0 if row[0] == '0' else 1\n",
    "        \n",
    "        list_item.append(label)\n",
    "        \n",
    "        num_sentences = num_sentences + 1\n",
    "        corpus.append(list_item)"
   ]
  },
  {
   "cell_type": "code",
   "execution_count": 3,
   "metadata": {
    "colab": {
     "base_uri": "https://localhost:8080/",
     "height": 68
    },
    "id": "3kxblBUjEUX-",
    "outputId": "3c0227a2-e74b-4d9b-cabb-f9ee150571b1",
    "tags": []
   },
   "outputs": [
    {
     "name": "stdout",
     "output_type": "stream",
     "text": [
      "1600000\n",
      "1600000\n",
      "[\"is upset that he can't update his Facebook by texting it... and might cry as a result  School today also. Blah!\", 0]\n"
     ]
    }
   ],
   "source": [
    "print(num_sentences)\n",
    "print(len(corpus))\n",
    "print(corpus[1])\n",
    "\n",
    "# Expected Output:\n",
    "# 1600000\n",
    "# 1600000\n",
    "# [\"is upset that he can't update his Facebook by texting it... and might cry as a result  School today also. Blah!\", 0]"
   ]
  },
  {
   "cell_type": "code",
   "execution_count": 4,
   "metadata": {
    "id": "ohOGz24lsNAD",
    "tags": []
   },
   "outputs": [],
   "source": [
    "sentences=[]\n",
    "labels=[]\n",
    "random.shuffle(corpus)\n",
    "for x in range(training_size):\n",
    "    sentences.append(corpus[x][0])  # Extracting the text (sentence)\n",
    "    labels.append(corpus[x][1])     # Extracting the label (0 or 1)\n",
    "\n",
    "tokenizer = Tokenizer()\n",
    "tokenizer.fit_on_texts(sentences)   # Fit tokenizer on the list of sentences to generate vocabulary\n",
    "\n",
    "word_index = tokenizer.word_index\n",
    "vocab_size = len(word_index)        # Determine the vocabulary size\n",
    "\n",
    "sequences = tokenizer.texts_to_sequences(sentences)    # Convert sentences to sequences of integers\n",
    "padded = pad_sequences(sequences, maxlen=max_length, padding=padding_type, truncating=trunc_type) # Pad sequences to ensure uniform length for model input\n",
    "\n",
    "split = int(test_portion * training_size)\n",
    "\n",
    "test_sequences = padded[:split]    # First 'split' elements go to the test set\n",
    "training_sequences = padded[split:] # Remaining elements go to the training set\n",
    "test_labels = labels[:split]    # First 'split' labels go to the test set\n",
    "training_labels = labels[split:] # Remaining labels go to the training set"
   ]
  },
  {
   "cell_type": "code",
   "execution_count": 5,
   "metadata": {
    "colab": {
     "base_uri": "https://localhost:8080/",
     "height": 51
    },
    "id": "gIrtRem1En3N",
    "outputId": "4ad8401c-8dba-420d-8aee-38dac0b0839a",
    "tags": []
   },
   "outputs": [
    {
     "name": "stdout",
     "output_type": "stream",
     "text": [
      "26550\n",
      "1\n"
     ]
    }
   ],
   "source": [
    "print(vocab_size)\n",
    "print(word_index['i'])\n",
    "# Expected Output\n",
    "# 138858\n",
    "# 1"
   ]
  },
  {
   "cell_type": "code",
   "execution_count": 6,
   "metadata": {
    "colab": {
     "base_uri": "https://localhost:8080/",
     "height": 204
    },
    "id": "C1zdgJkusRh0",
    "outputId": "b6edd322-8191-45e7-cb12-08921685a72f",
    "tags": []
   },
   "outputs": [],
   "source": [
    "# Note this is the 100 dimension version of GloVe from Stanford\n",
    "# I unzipped and hosted it on my site to make this notebook easier\n",
    "#!wget --no-check-certificate \\\n",
    "#    https://storage.googleapis.com/laurencemoroney-blog.appspot.com/glove.6B.100d.txt \\\n",
    "#    -O /tmp/glove.6B.100d.txt\n",
    "embeddings_index = {};\n",
    "with open('glove.6B.100d.txt') as f:\n",
    "    for line in f:\n",
    "        values = line.split();\n",
    "        word = values[0];\n",
    "        coefs = np.asarray(values[1:], dtype='float32');\n",
    "        embeddings_index[word] = coefs;\n",
    "\n",
    "embeddings_matrix = np.zeros((vocab_size+1, embedding_dim));\n",
    "for word, i in word_index.items():\n",
    "    embedding_vector = embeddings_index.get(word);\n",
    "    if embedding_vector is not None:\n",
    "        embeddings_matrix[i] = embedding_vector;"
   ]
  },
  {
   "cell_type": "code",
   "execution_count": 7,
   "metadata": {
    "colab": {
     "base_uri": "https://localhost:8080/",
     "height": 34
    },
    "id": "71NLk_lpFLNt",
    "outputId": "97cb88db-754f-4375-fdc3-876cd6b4fdce",
    "tags": []
   },
   "outputs": [
    {
     "name": "stdout",
     "output_type": "stream",
     "text": [
      "26551\n"
     ]
    }
   ],
   "source": [
    "print(len(embeddings_matrix))\n",
    "# Expected Output\n",
    "# 138859"
   ]
  },
  {
   "cell_type": "code",
   "execution_count": 8,
   "metadata": {
    "tags": []
   },
   "outputs": [
    {
     "name": "stderr",
     "output_type": "stream",
     "text": [
      "/opt/anaconda3/lib/python3.11/site-packages/keras/src/layers/core/embedding.py:90: UserWarning: Argument `input_length` is deprecated. Just remove it.\n",
      "  warnings.warn(\n",
      "2024-06-13 18:15:54.317953: I metal_plugin/src/device/metal_device.cc:1154] Metal device set to: Apple M1\n",
      "2024-06-13 18:15:54.317981: I metal_plugin/src/device/metal_device.cc:296] systemMemory: 16.00 GB\n",
      "2024-06-13 18:15:54.317989: I metal_plugin/src/device/metal_device.cc:313] maxCacheSize: 5.33 GB\n",
      "2024-06-13 18:15:54.318013: I tensorflow/core/common_runtime/pluggable_device/pluggable_device_factory.cc:305] Could not identify NUMA node of platform GPU ID 0, defaulting to 0. Your kernel may not have been built with NUMA support.\n",
      "2024-06-13 18:15:54.318027: I tensorflow/core/common_runtime/pluggable_device/pluggable_device_factory.cc:271] Created TensorFlow device (/job:localhost/replica:0/task:0/device:GPU:0 with 0 MB memory) -> physical PluggableDevice (device: 0, name: METAL, pci bus id: <undefined>)\n"
     ]
    },
    {
     "data": {
      "text/html": [
       "<pre style=\"white-space:pre;overflow-x:auto;line-height:normal;font-family:Menlo,'DejaVu Sans Mono',consolas,'Courier New',monospace\"><span style=\"font-weight: bold\">Model: \"sequential\"</span>\n",
       "</pre>\n"
      ],
      "text/plain": [
       "\u001b[1mModel: \"sequential\"\u001b[0m\n"
      ]
     },
     "metadata": {},
     "output_type": "display_data"
    },
    {
     "data": {
      "text/html": [
       "<pre style=\"white-space:pre;overflow-x:auto;line-height:normal;font-family:Menlo,'DejaVu Sans Mono',consolas,'Courier New',monospace\">┏━━━━━━━━━━━━━━━━━━━━━━━━━━━━━━━━━┳━━━━━━━━━━━━━━━━━━━━━━━━┳━━━━━━━━━━━━━━━┓\n",
       "┃<span style=\"font-weight: bold\"> Layer (type)                    </span>┃<span style=\"font-weight: bold\"> Output Shape           </span>┃<span style=\"font-weight: bold\">       Param # </span>┃\n",
       "┡━━━━━━━━━━━━━━━━━━━━━━━━━━━━━━━━━╇━━━━━━━━━━━━━━━━━━━━━━━━╇━━━━━━━━━━━━━━━┩\n",
       "│ embedding (<span style=\"color: #0087ff; text-decoration-color: #0087ff\">Embedding</span>)           │ ?                      │     <span style=\"color: #00af00; text-decoration-color: #00af00\">2,655,100</span> │\n",
       "├─────────────────────────────────┼────────────────────────┼───────────────┤\n",
       "│ bidirectional (<span style=\"color: #0087ff; text-decoration-color: #0087ff\">Bidirectional</span>)   │ ?                      │   <span style=\"color: #00af00; text-decoration-color: #00af00\">0</span> (unbuilt) │\n",
       "├─────────────────────────────────┼────────────────────────┼───────────────┤\n",
       "│ bidirectional_1 (<span style=\"color: #0087ff; text-decoration-color: #0087ff\">Bidirectional</span>) │ ?                      │   <span style=\"color: #00af00; text-decoration-color: #00af00\">0</span> (unbuilt) │\n",
       "├─────────────────────────────────┼────────────────────────┼───────────────┤\n",
       "│ dense (<span style=\"color: #0087ff; text-decoration-color: #0087ff\">Dense</span>)                   │ ?                      │   <span style=\"color: #00af00; text-decoration-color: #00af00\">0</span> (unbuilt) │\n",
       "├─────────────────────────────────┼────────────────────────┼───────────────┤\n",
       "│ dense_1 (<span style=\"color: #0087ff; text-decoration-color: #0087ff\">Dense</span>)                 │ ?                      │   <span style=\"color: #00af00; text-decoration-color: #00af00\">0</span> (unbuilt) │\n",
       "└─────────────────────────────────┴────────────────────────┴───────────────┘\n",
       "</pre>\n"
      ],
      "text/plain": [
       "┏━━━━━━━━━━━━━━━━━━━━━━━━━━━━━━━━━┳━━━━━━━━━━━━━━━━━━━━━━━━┳━━━━━━━━━━━━━━━┓\n",
       "┃\u001b[1m \u001b[0m\u001b[1mLayer (type)                   \u001b[0m\u001b[1m \u001b[0m┃\u001b[1m \u001b[0m\u001b[1mOutput Shape          \u001b[0m\u001b[1m \u001b[0m┃\u001b[1m \u001b[0m\u001b[1m      Param #\u001b[0m\u001b[1m \u001b[0m┃\n",
       "┡━━━━━━━━━━━━━━━━━━━━━━━━━━━━━━━━━╇━━━━━━━━━━━━━━━━━━━━━━━━╇━━━━━━━━━━━━━━━┩\n",
       "│ embedding (\u001b[38;5;33mEmbedding\u001b[0m)           │ ?                      │     \u001b[38;5;34m2,655,100\u001b[0m │\n",
       "├─────────────────────────────────┼────────────────────────┼───────────────┤\n",
       "│ bidirectional (\u001b[38;5;33mBidirectional\u001b[0m)   │ ?                      │   \u001b[38;5;34m0\u001b[0m (unbuilt) │\n",
       "├─────────────────────────────────┼────────────────────────┼───────────────┤\n",
       "│ bidirectional_1 (\u001b[38;5;33mBidirectional\u001b[0m) │ ?                      │   \u001b[38;5;34m0\u001b[0m (unbuilt) │\n",
       "├─────────────────────────────────┼────────────────────────┼───────────────┤\n",
       "│ dense (\u001b[38;5;33mDense\u001b[0m)                   │ ?                      │   \u001b[38;5;34m0\u001b[0m (unbuilt) │\n",
       "├─────────────────────────────────┼────────────────────────┼───────────────┤\n",
       "│ dense_1 (\u001b[38;5;33mDense\u001b[0m)                 │ ?                      │   \u001b[38;5;34m0\u001b[0m (unbuilt) │\n",
       "└─────────────────────────────────┴────────────────────────┴───────────────┘\n"
      ]
     },
     "metadata": {},
     "output_type": "display_data"
    },
    {
     "data": {
      "text/html": [
       "<pre style=\"white-space:pre;overflow-x:auto;line-height:normal;font-family:Menlo,'DejaVu Sans Mono',consolas,'Courier New',monospace\"><span style=\"font-weight: bold\"> Total params: </span><span style=\"color: #00af00; text-decoration-color: #00af00\">2,655,100</span> (10.13 MB)\n",
       "</pre>\n"
      ],
      "text/plain": [
       "\u001b[1m Total params: \u001b[0m\u001b[38;5;34m2,655,100\u001b[0m (10.13 MB)\n"
      ]
     },
     "metadata": {},
     "output_type": "display_data"
    },
    {
     "data": {
      "text/html": [
       "<pre style=\"white-space:pre;overflow-x:auto;line-height:normal;font-family:Menlo,'DejaVu Sans Mono',consolas,'Courier New',monospace\"><span style=\"font-weight: bold\"> Trainable params: </span><span style=\"color: #00af00; text-decoration-color: #00af00\">0</span> (0.00 B)\n",
       "</pre>\n"
      ],
      "text/plain": [
       "\u001b[1m Trainable params: \u001b[0m\u001b[38;5;34m0\u001b[0m (0.00 B)\n"
      ]
     },
     "metadata": {},
     "output_type": "display_data"
    },
    {
     "data": {
      "text/html": [
       "<pre style=\"white-space:pre;overflow-x:auto;line-height:normal;font-family:Menlo,'DejaVu Sans Mono',consolas,'Courier New',monospace\"><span style=\"font-weight: bold\"> Non-trainable params: </span><span style=\"color: #00af00; text-decoration-color: #00af00\">2,655,100</span> (10.13 MB)\n",
       "</pre>\n"
      ],
      "text/plain": [
       "\u001b[1m Non-trainable params: \u001b[0m\u001b[38;5;34m2,655,100\u001b[0m (10.13 MB)\n"
      ]
     },
     "metadata": {},
     "output_type": "display_data"
    }
   ],
   "source": [
    "model = tf.keras.Sequential([\n",
    "    tf.keras.layers.Embedding(vocab_size+1, embedding_dim, input_length=max_length, weights=[embeddings_matrix], trainable=False),\n",
    "    tf.keras.layers.Bidirectional(tf.keras.layers.LSTM(64, return_sequences=True)),\n",
    "    tf.keras.layers.Bidirectional(tf.keras.layers.LSTM(32)),\n",
    "    tf.keras.layers.Dense(64, activation='relu'),\n",
    "    tf.keras.layers.Dense(1, activation='sigmoid')\n",
    "])\n",
    "\n",
    "model.compile(optimizer='adam', loss='binary_crossentropy', metrics=['accuracy'])\n",
    "model.summary()"
   ]
  },
  {
   "cell_type": "code",
   "execution_count": 9,
   "metadata": {
    "tags": []
   },
   "outputs": [
    {
     "name": "stdout",
     "output_type": "stream",
     "text": [
      "Epoch 1/50\n"
     ]
    },
    {
     "name": "stderr",
     "output_type": "stream",
     "text": [
      "2024-06-13 18:15:55.199873: I tensorflow/core/grappler/optimizers/custom_graph_optimizer_registry.cc:117] Plugin optimizer for device_type GPU is enabled.\n"
     ]
    },
    {
     "name": "stdout",
     "output_type": "stream",
     "text": [
      "450/450 - 46s - 102ms/step - accuracy: 0.6703 - loss: 0.6014 - val_accuracy: 0.6881 - val_loss: 0.5774\n",
      "Epoch 2/50\n",
      "450/450 - 42s - 94ms/step - accuracy: 0.7249 - loss: 0.5421 - val_accuracy: 0.6956 - val_loss: 0.5853\n",
      "Epoch 3/50\n",
      "450/450 - 43s - 95ms/step - accuracy: 0.7374 - loss: 0.5202 - val_accuracy: 0.7044 - val_loss: 0.5451\n",
      "Epoch 4/50\n",
      "450/450 - 43s - 95ms/step - accuracy: 0.7542 - loss: 0.4972 - val_accuracy: 0.7200 - val_loss: 0.5301\n",
      "Epoch 5/50\n",
      "450/450 - 43s - 95ms/step - accuracy: 0.7733 - loss: 0.4729 - val_accuracy: 0.7175 - val_loss: 0.5505\n",
      "Epoch 6/50\n",
      "450/450 - 43s - 95ms/step - accuracy: 0.7882 - loss: 0.4463 - val_accuracy: 0.7294 - val_loss: 0.5483\n",
      "Epoch 7/50\n",
      "450/450 - 43s - 95ms/step - accuracy: 0.8104 - loss: 0.4062 - val_accuracy: 0.7169 - val_loss: 0.5626\n",
      "Epoch 8/50\n",
      "450/450 - 42s - 94ms/step - accuracy: 0.8294 - loss: 0.3697 - val_accuracy: 0.7188 - val_loss: 0.6308\n",
      "Epoch 9/50\n",
      "450/450 - 43s - 96ms/step - accuracy: 0.8559 - loss: 0.3220 - val_accuracy: 0.7006 - val_loss: 0.6694\n",
      "Epoch 10/50\n",
      "450/450 - 44s - 97ms/step - accuracy: 0.8779 - loss: 0.2800 - val_accuracy: 0.7069 - val_loss: 0.6883\n",
      "Epoch 11/50\n",
      "450/450 - 43s - 95ms/step - accuracy: 0.9039 - loss: 0.2292 - val_accuracy: 0.7038 - val_loss: 0.8037\n",
      "Epoch 12/50\n",
      "450/450 - 43s - 94ms/step - accuracy: 0.9238 - loss: 0.1861 - val_accuracy: 0.6850 - val_loss: 0.8986\n",
      "Epoch 13/50\n",
      "450/450 - 43s - 96ms/step - accuracy: 0.9395 - loss: 0.1467 - val_accuracy: 0.7056 - val_loss: 1.0924\n",
      "Epoch 14/50\n",
      "450/450 - 43s - 95ms/step - accuracy: 0.9528 - loss: 0.1176 - val_accuracy: 0.7006 - val_loss: 1.3119\n",
      "Epoch 15/50\n",
      "450/450 - 43s - 95ms/step - accuracy: 0.9610 - loss: 0.0944 - val_accuracy: 0.6944 - val_loss: 1.4657\n",
      "Epoch 16/50\n",
      "450/450 - 43s - 97ms/step - accuracy: 0.9683 - loss: 0.0858 - val_accuracy: 0.6988 - val_loss: 1.5090\n",
      "Epoch 17/50\n",
      "450/450 - 45s - 101ms/step - accuracy: 0.9704 - loss: 0.0732 - val_accuracy: 0.7006 - val_loss: 1.5385\n",
      "Epoch 18/50\n",
      "450/450 - 43s - 96ms/step - accuracy: 0.9785 - loss: 0.0544 - val_accuracy: 0.6969 - val_loss: 1.6505\n",
      "Epoch 19/50\n",
      "450/450 - 42s - 94ms/step - accuracy: 0.9801 - loss: 0.0568 - val_accuracy: 0.6956 - val_loss: 1.7332\n",
      "Epoch 20/50\n",
      "450/450 - 43s - 95ms/step - accuracy: 0.9805 - loss: 0.0530 - val_accuracy: 0.6963 - val_loss: 1.7720\n",
      "Epoch 21/50\n",
      "450/450 - 43s - 96ms/step - accuracy: 0.9847 - loss: 0.0386 - val_accuracy: 0.7050 - val_loss: 1.8678\n",
      "Epoch 22/50\n",
      "450/450 - 43s - 96ms/step - accuracy: 0.9844 - loss: 0.0386 - val_accuracy: 0.6994 - val_loss: 1.9724\n",
      "Epoch 23/50\n",
      "450/450 - 43s - 96ms/step - accuracy: 0.9824 - loss: 0.0489 - val_accuracy: 0.7056 - val_loss: 1.7624\n",
      "Epoch 24/50\n",
      "450/450 - 43s - 97ms/step - accuracy: 0.9842 - loss: 0.0400 - val_accuracy: 0.6981 - val_loss: 1.9177\n",
      "Epoch 25/50\n",
      "450/450 - 43s - 96ms/step - accuracy: 0.9898 - loss: 0.0280 - val_accuracy: 0.7031 - val_loss: 1.9535\n",
      "Epoch 26/50\n",
      "450/450 - 43s - 95ms/step - accuracy: 0.9865 - loss: 0.0355 - val_accuracy: 0.7050 - val_loss: 2.0331\n",
      "Epoch 27/50\n",
      "450/450 - 43s - 94ms/step - accuracy: 0.9852 - loss: 0.0372 - val_accuracy: 0.6950 - val_loss: 2.0650\n",
      "Epoch 28/50\n",
      "450/450 - 42s - 94ms/step - accuracy: 0.9914 - loss: 0.0214 - val_accuracy: 0.6994 - val_loss: 2.2445\n",
      "Epoch 29/50\n",
      "450/450 - 42s - 94ms/step - accuracy: 0.9875 - loss: 0.0321 - val_accuracy: 0.6975 - val_loss: 2.1753\n",
      "Epoch 30/50\n",
      "450/450 - 42s - 94ms/step - accuracy: 0.9903 - loss: 0.0261 - val_accuracy: 0.6969 - val_loss: 2.2054\n",
      "Epoch 31/50\n",
      "450/450 - 42s - 94ms/step - accuracy: 0.9891 - loss: 0.0314 - val_accuracy: 0.6862 - val_loss: 1.8985\n",
      "Epoch 32/50\n",
      "450/450 - 42s - 94ms/step - accuracy: 0.9886 - loss: 0.0312 - val_accuracy: 0.6875 - val_loss: 2.2308\n",
      "Epoch 33/50\n",
      "450/450 - 189s - 420ms/step - accuracy: 0.9887 - loss: 0.0295 - val_accuracy: 0.6969 - val_loss: 2.1650\n",
      "Epoch 34/50\n",
      "450/450 - 48s - 106ms/step - accuracy: 0.9903 - loss: 0.0299 - val_accuracy: 0.6875 - val_loss: 2.2027\n",
      "Epoch 35/50\n",
      "450/450 - 43s - 95ms/step - accuracy: 0.9906 - loss: 0.0265 - val_accuracy: 0.6931 - val_loss: 2.0974\n",
      "Epoch 36/50\n",
      "450/450 - 43s - 95ms/step - accuracy: 0.9948 - loss: 0.0136 - val_accuracy: 0.6975 - val_loss: 2.3907\n",
      "Epoch 37/50\n",
      "450/450 - 45s - 100ms/step - accuracy: 0.9951 - loss: 0.0131 - val_accuracy: 0.6869 - val_loss: 2.4727\n",
      "Epoch 38/50\n",
      "450/450 - 43s - 96ms/step - accuracy: 0.9856 - loss: 0.0393 - val_accuracy: 0.6862 - val_loss: 2.1532\n",
      "Epoch 39/50\n",
      "450/450 - 43s - 97ms/step - accuracy: 0.9913 - loss: 0.0199 - val_accuracy: 0.6894 - val_loss: 2.3405\n",
      "Epoch 40/50\n",
      "450/450 - 43s - 96ms/step - accuracy: 0.9902 - loss: 0.0253 - val_accuracy: 0.6831 - val_loss: 2.4962\n",
      "Epoch 41/50\n",
      "450/450 - 44s - 97ms/step - accuracy: 0.9881 - loss: 0.0297 - val_accuracy: 0.6831 - val_loss: 2.0972\n",
      "Epoch 42/50\n",
      "450/450 - 43s - 96ms/step - accuracy: 0.9947 - loss: 0.0130 - val_accuracy: 0.6800 - val_loss: 2.3615\n",
      "Epoch 43/50\n",
      "450/450 - 43s - 97ms/step - accuracy: 0.9916 - loss: 0.0193 - val_accuracy: 0.6994 - val_loss: 2.3753\n",
      "Epoch 44/50\n",
      "450/450 - 44s - 97ms/step - accuracy: 0.9892 - loss: 0.0285 - val_accuracy: 0.6862 - val_loss: 2.2979\n",
      "Epoch 45/50\n",
      "450/450 - 43s - 97ms/step - accuracy: 0.9919 - loss: 0.0201 - val_accuracy: 0.7013 - val_loss: 2.2812\n",
      "Epoch 46/50\n",
      "450/450 - 43s - 96ms/step - accuracy: 0.9937 - loss: 0.0142 - val_accuracy: 0.7025 - val_loss: 2.4248\n",
      "Epoch 47/50\n",
      "450/450 - 44s - 97ms/step - accuracy: 0.9902 - loss: 0.0244 - val_accuracy: 0.6781 - val_loss: 2.2660\n",
      "Epoch 48/50\n",
      "450/450 - 45s - 99ms/step - accuracy: 0.9922 - loss: 0.0221 - val_accuracy: 0.6913 - val_loss: 2.1621\n",
      "Epoch 49/50\n",
      "450/450 - 44s - 97ms/step - accuracy: 0.9947 - loss: 0.0129 - val_accuracy: 0.6950 - val_loss: 2.4133\n",
      "Epoch 50/50\n",
      "450/450 - 44s - 99ms/step - accuracy: 0.9961 - loss: 0.0083 - val_accuracy: 0.6900 - val_loss: 2.6252\n",
      "Training Complete\n"
     ]
    }
   ],
   "source": [
    "# Train the model\n",
    "num_epochs = 50\n",
    "history = model.fit(\n",
    "    training_sequences, np.array(training_labels),\n",
    "    epochs=num_epochs, \n",
    "    validation_data=(test_sequences, np.array(test_labels)), \n",
    "    verbose=2  # Increase verbosity to see training progress\n",
    ")\n",
    "\n",
    "print(\"Training Complete\")"
   ]
  },
  {
   "cell_type": "code",
   "execution_count": 10,
   "metadata": {
    "id": "qxju4ItJKO8F",
    "tags": []
   },
   "outputs": [
    {
     "data": {
      "text/plain": [
       "<Figure size 640x480 with 0 Axes>"
      ]
     },
     "execution_count": 10,
     "metadata": {},
     "output_type": "execute_result"
    },
    {
     "data": {
      "image/png": "[encoded data removed]",
      "text/plain": [
       "<Figure size 640x480 with 1 Axes>"
      ]
     },
     "metadata": {},
     "output_type": "display_data"
    },
    {
     "data": {
      "image/png": "[encoded data removed]",
      "text/plain": [
       "<Figure size 640x480 with 1 Axes>"
      ]
     },
     "metadata": {},
     "output_type": "display_data"
    },
    {
     "data": {
      "text/plain": [
       "<Figure size 640x480 with 0 Axes>"
      ]
     },
     "metadata": {},
     "output_type": "display_data"
    }
   ],
   "source": [
    "import matplotlib.image  as mpimg\n",
    "import matplotlib.pyplot as plt\n",
    "\n",
    "#-----------------------------------------------------------\n",
    "# Retrieve a list of list results on training and test data\n",
    "# sets for each training epoch\n",
    "#-----------------------------------------------------------\n",
    "acc=history.history['accuracy']\n",
    "val_acc=history.history['val_accuracy']\n",
    "loss=history.history['loss']\n",
    "val_loss=history.history['val_loss']\n",
    "\n",
    "epochs=range(len(acc)) # Get number of epochs\n",
    "\n",
    "#------------------------------------------------\n",
    "# Plot training and validation accuracy per epoch\n",
    "#------------------------------------------------\n",
    "plt.plot(epochs, acc, 'r')\n",
    "plt.plot(epochs, val_acc, 'b')\n",
    "plt.title('Training and validation accuracy')\n",
    "plt.xlabel(\"Epochs\")\n",
    "plt.ylabel(\"Accuracy\")\n",
    "plt.legend([\"Accuracy\", \"Validation Accuracy\"])\n",
    "\n",
    "plt.figure()\n",
    "\n",
    "#------------------------------------------------\n",
    "# Plot training and validation loss per epoch\n",
    "#------------------------------------------------\n",
    "plt.plot(epochs, loss, 'r')\n",
    "plt.plot(epochs, val_loss, 'b')\n",
    "plt.title('Training and validation loss')\n",
    "plt.xlabel(\"Epochs\")\n",
    "plt.ylabel(\"Loss\")\n",
    "plt.legend([\"Loss\", \"Validation Loss\"])\n",
    "\n",
    "plt.figure()\n",
    "\n",
    "\n",
    "# Expected Output\n",
    "# A chart where the validation loss does not increase sharply!"
   ]
  },
  {
   "cell_type": "code",
   "execution_count": null,
   "metadata": {},
   "outputs": [],
   "source": []
  }
 ],
 "metadata": {
  "accelerator": "GPU",
  "colab": {
   "name": "NLP Course - Week 3 Exercise Question.ipynb",
   "provenance": [],
   "toc_visible": true
  },
  "kernelspec": {
   "display_name": "Python 3 (ipykernel)",
   "language": "python",
   "name": "python3"
  },
  "language_info": {
   "codemirror_mode": {
    "name": "ipython",
    "version": 3
   },
   "file_extension": ".py",
   "mimetype": "text/x-python",
   "name": "python",
   "nbconvert_exporter": "python",
   "pygments_lexer": "ipython3",
   "version": "3.11.7"
  }
 },
 "nbformat": 4,
 "nbformat_minor": 4
}
